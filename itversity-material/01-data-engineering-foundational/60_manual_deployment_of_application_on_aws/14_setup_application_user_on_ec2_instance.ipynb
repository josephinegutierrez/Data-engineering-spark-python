{
 "cells": [
  {
   "cell_type": "markdown",
   "id": "47b8f945-f178-491b-a4f2-91ac1f7a89f3",
   "metadata": {},
   "source": [
    "## Setup Application User on EC2 Instance\n",
    "\n",
    "Let us go ahead and set up application user by name **lms** on EC2 Instance. We will be setting up the application using this application user.\n",
    "* Create user by name **lms** using `adduser` and make sure SSH Public key content is copied to **authorized_keys** under **/home/lms/.ssh/authorized_keys**.\n",
    "* Here are the steps to copy the authorized keys on to the container.\n",
    "  * Run `ssh-keygen -m PEM -t rsa -b 4096`.\n",
    "  * Make sure to provide the path under the home directory on your mac or PC. In my case it is **/Users/itversity/.ssh/lms_rsa**.\n",
    "  * Copy the contents of **lms_rsa.pub**.\n",
    "  * Login into EC2 instance as **ubuntu**.\n",
    "  * Sudo to **lms** - `sudo su - lms`\n",
    "  * Create a folder by name **/home/lms/.ssh** - `mkdir -p /home/lms/.ssh`.\n",
    "  * Make sure the permissions are changed on **home/lms/.ssh** to 700 - `chmod 700 -R /home/lms/.ssh`.\n",
    "  * Paste the public key content to **/home/lms/.ssh/authorized_keys**.\n",
    "* Make sure to take the back up of **.ssh** folder on to your host, so that we can use it incase the lab environment is recycled.\n",
    "\n",
    "```shell\n",
    "docker compose cp itvlab:/home/itversity/.ssh itvlab_ssh\n",
    "```\n",
    "\n",
    "* Keep this command handy so that, you can get your keys copied on to the **itvlab** containers when you recycle them.\n",
    "\n",
    "```shell\n",
    "docker compose cp itvlab_ssh itvlab:/home/itversity/.ssh\n",
    "docker compose exec itvlab chown -R itversity:itversity /home/itversity/.ssh\n",
    "docker compose exec itvlab chmod -R 700 /home/itversity/.ssh\n",
    "```"
   ]
  },
  {
   "cell_type": "code",
   "execution_count": null,
   "id": "94a0faac-37d7-4c22-b7a9-42a53d408247",
   "metadata": {},
   "outputs": [],
   "source": []
  }
 ],
 "metadata": {
  "kernelspec": {
   "display_name": "Python 3 (ipykernel)",
   "language": "python",
   "name": "python3"
  },
  "language_info": {
   "codemirror_mode": {
    "name": "ipython",
    "version": 3
   },
   "file_extension": ".py",
   "mimetype": "text/x-python",
   "name": "python",
   "nbconvert_exporter": "python",
   "pygments_lexer": "ipython3",
   "version": "3.8.12"
  }
 },
 "nbformat": 4,
 "nbformat_minor": 5
}
