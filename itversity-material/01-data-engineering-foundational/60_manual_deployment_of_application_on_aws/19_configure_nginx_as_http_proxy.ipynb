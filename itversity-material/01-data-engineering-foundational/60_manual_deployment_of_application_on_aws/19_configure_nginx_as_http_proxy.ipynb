{
 "cells": [
  {
   "cell_type": "markdown",
   "id": "2553b3a0-55a1-4c35-9866-80c57e93fe4b",
   "metadata": {},
   "source": [
    "## Configure Nginx as HTTP Proxy\n",
    "\n",
    "Let us go ahead and configure **nginx** as http proxy.\n",
    "* Login as **ubuntu** on to the EC2 Instance.\n",
    "* Remove default application from **sites-enabled** by running `sudo unlink /etc/nginx/sites-enabled/default`\n",
    "* Create a new file by name **/etc/nginx/sites-available/lmslbserver.conf** and paste below content.\n",
    "\n",
    "```shell\n",
    "upstream app {\n",
    "    server localhost:5000;\n",
    "}\n",
    "\n",
    "server {\n",
    "    listen 80;\n",
    "    location / {\n",
    "        proxy_pass http://app;\n",
    "    }\n",
    "}\n",
    "```\n",
    "* Add **lmslbserver.conf** to **sites-enabled** by running `sudo ln -s /etc/nginx/sites-available/lmslbserver.conf /etc/nginx/sites-enabled/.`\n",
    "* Validate by going to the browser using public DNS of the ec2 instance."
   ]
  },
  {
   "cell_type": "code",
   "execution_count": null,
   "id": "a880262e-dffd-4d9d-8ccc-7bc3af114310",
   "metadata": {},
   "outputs": [],
   "source": []
  }
 ],
 "metadata": {
  "kernelspec": {
   "display_name": "Python 3 (ipykernel)",
   "language": "python",
   "name": "python3"
  },
  "language_info": {
   "codemirror_mode": {
    "name": "ipython",
    "version": 3
   },
   "file_extension": ".py",
   "mimetype": "text/x-python",
   "name": "python",
   "nbconvert_exporter": "python",
   "pygments_lexer": "ipython3",
   "version": "3.8.12"
  }
 },
 "nbformat": 4,
 "nbformat_minor": 5
}
