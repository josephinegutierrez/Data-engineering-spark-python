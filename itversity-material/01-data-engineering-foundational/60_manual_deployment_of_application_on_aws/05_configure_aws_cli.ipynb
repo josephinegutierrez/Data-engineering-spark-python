{
 "cells": [
  {
   "cell_type": "markdown",
   "id": "b27e1963-41dc-48f2-88b6-e7c180377733",
   "metadata": {},
   "source": [
    "## Configure AWS CLI\n",
    "\n",
    "Let us go ahead and configure AWS CLI so that we can manage AWS Services using AWS CLI Commands.\n",
    "* Make sure to have the credentials file handy.\n",
    "* Run `aws configure --profile lmsadmin`.\n",
    "* Enter Access Key, Secret Key and Region when prompted.\n",
    "* Make sure to validate by running `aws iam list-users --profile lmsadmin`"
   ]
  },
  {
   "cell_type": "code",
   "execution_count": null,
   "id": "15657a44-2620-4697-8696-f70d95c5b08a",
   "metadata": {},
   "outputs": [],
   "source": [
    "!aws iam list-users --profile lmsadmin | grep lmsadmin"
   ]
  },
  {
   "cell_type": "code",
   "execution_count": null,
   "id": "c44c3bdb-3e19-4adc-a613-6e5bfaf28336",
   "metadata": {},
   "outputs": [],
   "source": []
  }
 ],
 "metadata": {
  "kernelspec": {
   "display_name": "Python 3 (ipykernel)",
   "language": "python",
   "name": "python3"
  },
  "language_info": {
   "codemirror_mode": {
    "name": "ipython",
    "version": 3
   },
   "file_extension": ".py",
   "mimetype": "text/x-python",
   "name": "python",
   "nbconvert_exporter": "python",
   "pygments_lexer": "ipython3",
   "version": "3.8.12"
  }
 },
 "nbformat": 4,
 "nbformat_minor": 5
}
