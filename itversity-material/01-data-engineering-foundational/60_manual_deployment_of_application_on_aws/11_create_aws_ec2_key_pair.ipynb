{
 "cells": [
  {
   "cell_type": "markdown",
   "id": "13620d0c-7c79-42e3-ae3b-efcf0bedeb38",
   "metadata": {},
   "source": [
    "## Create AWS EC2 Key Pair\n",
    "\n",
    "Let us go ahead and create EC2 Key Pair. We will use this key pair when EC2 Instance is created as part of next lecture.\n",
    "* EC2 Key Pair is required to access EC2 Instances via SSH.\n",
    "* The private key need to be copied locally on to our system in appropriate location.\n",
    "* When we create EC2 Instance using the Key Pair created, the public key will be copied to authorized keys on the instance.\n",
    "* The private key will be provided only once when the key pair is created. If we fail to retain, then we will not be able to get it in future.\n",
    "* Make sure to have the copy of private key of Key Pair in standard folders such as **.ssh**."
   ]
  },
  {
   "cell_type": "code",
   "execution_count": null,
   "id": "f55076c4-9fd6-42cc-bdd4-7a35db17f545",
   "metadata": {},
   "outputs": [],
   "source": [
    "!aws ec2 create-key-pair help"
   ]
  },
  {
   "cell_type": "code",
   "execution_count": null,
   "id": "37446926-2fdd-4527-b085-67b7e0c3a735",
   "metadata": {},
   "outputs": [],
   "source": [
    "!aws ec2 create-key-pair \\\n",
    "    --key-name lmskeypair \\\n",
    "    --query 'KeyMaterial' \\\n",
    "    --output text \\\n",
    "    --profile lmsadmin \\\n",
    "    --region us-east-1 > ~/.ssh/lmskeypair.pem\n",
    "# Make sure to have a back up of the contents on your host"
   ]
  },
  {
   "cell_type": "markdown",
   "id": "54e47492-f9ac-44c9-9c79-da97e58abc29",
   "metadata": {},
   "source": [
    "* Run below command to take the backup.\n",
    "\n",
    "```\n",
    "docker compose cp itvlab:~/.ssh/lmskeypair.pem .\n",
    "```"
   ]
  },
  {
   "cell_type": "code",
   "execution_count": null,
   "id": "23b76dda-9651-486c-824a-477f0d368438",
   "metadata": {},
   "outputs": [],
   "source": [
    "!aws ec2 delete-key-pair \\\n",
    "    --key-name lmskeypair \\\n",
    "    --profile lmsadmin \\\n",
    "    --region us-east-1"
   ]
  },
  {
   "cell_type": "code",
   "execution_count": null,
   "id": "27335a0b-5c4b-4a57-acb8-51f5c8d4b2be",
   "metadata": {},
   "outputs": [],
   "source": []
  }
 ],
 "metadata": {
  "kernelspec": {
   "display_name": "Python 3 (ipykernel)",
   "language": "python",
   "name": "python3"
  },
  "language_info": {
   "codemirror_mode": {
    "name": "ipython",
    "version": 3
   },
   "file_extension": ".py",
   "mimetype": "text/x-python",
   "name": "python",
   "nbconvert_exporter": "python",
   "pygments_lexer": "ipython3",
   "version": "3.8.12"
  }
 },
 "nbformat": 4,
 "nbformat_minor": 5
}
