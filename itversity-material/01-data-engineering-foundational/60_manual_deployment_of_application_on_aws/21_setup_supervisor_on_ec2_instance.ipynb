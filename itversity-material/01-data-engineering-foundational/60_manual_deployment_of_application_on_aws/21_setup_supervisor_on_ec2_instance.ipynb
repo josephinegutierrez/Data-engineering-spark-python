{
 "cells": [
  {
   "cell_type": "markdown",
   "id": "de57b13a-295f-4617-8afc-9b8bd7deccf2",
   "metadata": {},
   "source": [
    "## Setup Supervisor on EC2 Instance\n",
    "\n",
    "Let us go ahead and setup supervisor on the EC2 Instance where application is deployed.\n",
    "* As of now application is deployed and started using gunicorn. However, if the application is crashed it will not come back up automatically for us.\n",
    "* Supervisor can be leveraged to configure control process on the application that is running using gunicorn due to following capabilities.\n",
    "  * Auto restart in case of any unexpected crashes.\n",
    "  * Automatic start whenever the system is started.\n",
    "  * Redirect logs to the locations that are defined.\n",
    "* We can install **supervisor** using `apt` on ubuntu based servers by logging in as sudo user."
   ]
  },
  {
   "cell_type": "code",
   "execution_count": null,
   "id": "de79914e-3912-434d-9da7-c44958573b5a",
   "metadata": {},
   "outputs": [],
   "source": []
  }
 ],
 "metadata": {
  "kernelspec": {
   "display_name": "Python 3 (ipykernel)",
   "language": "python",
   "name": "python3"
  },
  "language_info": {
   "codemirror_mode": {
    "name": "ipython",
    "version": 3
   },
   "file_extension": ".py",
   "mimetype": "text/x-python",
   "name": "python",
   "nbconvert_exporter": "python",
   "pygments_lexer": "ipython3",
   "version": "3.8.12"
  }
 },
 "nbformat": 4,
 "nbformat_minor": 5
}
