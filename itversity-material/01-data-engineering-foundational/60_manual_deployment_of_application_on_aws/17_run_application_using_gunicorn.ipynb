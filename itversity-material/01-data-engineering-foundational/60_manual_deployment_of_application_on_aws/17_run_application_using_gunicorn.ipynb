{
 "cells": [
  {
   "cell_type": "markdown",
   "id": "65fca7d0-3a6d-4c5a-ab8b-a8252027a3e4",
   "metadata": {},
   "source": [
    "## Run application using guincorn\n",
    "\n",
    "As dependencies are installed, let's make sure that application is run using `gunicorn` and also it is validated using `curl`.\n",
    "* We need to make sure that environment variables are set before running the application using gunicorn command.\n",
    "\n",
    "```shell\n",
    "export DB_HOST=lmsdbserver.cfrxujtpbrro.us-east-1.rds.amazonaws.com\n",
    "export DB_PORT=5432\n",
    "export DB_NAME=lms_db\n",
    "export DB_USER=lms_user\n",
    "export DB_PASS=itversity\n",
    "```\n",
    "\n",
    "* Run gunicorn command to start the application.\n",
    "\n",
    "```shell\n",
    "/home/lms/.local/bin/gunicorn \\\n",
    "    --chdir /apps/lms/lms-app \\\n",
    "    -w 2 \\\n",
    "    --threads 2 \\\n",
    "    -b 0.0.0.0:5000 \\\n",
    "    -D \\\n",
    "    main:app\n",
    "```\n",
    "\n",
    "* Validate using `curl`.\n",
    "\n",
    "```shell\n",
    "curl http://localhost:5000\n",
    "```"
   ]
  },
  {
   "cell_type": "code",
   "execution_count": null,
   "id": "077449fc-109e-4a27-b03d-dfdc98991510",
   "metadata": {},
   "outputs": [],
   "source": []
  }
 ],
 "metadata": {
  "kernelspec": {
   "display_name": "Python 3 (ipykernel)",
   "language": "python",
   "name": "python3"
  },
  "language_info": {
   "codemirror_mode": {
    "name": "ipython",
    "version": 3
   },
   "file_extension": ".py",
   "mimetype": "text/x-python",
   "name": "python",
   "nbconvert_exporter": "python",
   "pygments_lexer": "ipython3",
   "version": "3.8.12"
  }
 },
 "nbformat": 4,
 "nbformat_minor": 5
}
