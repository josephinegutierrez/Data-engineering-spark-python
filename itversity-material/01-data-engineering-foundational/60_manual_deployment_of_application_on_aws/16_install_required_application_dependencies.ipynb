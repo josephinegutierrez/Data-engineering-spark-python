{
 "cells": [
  {
   "cell_type": "markdown",
   "id": "6acdef0a-c4aa-4d92-8b4b-e353aa986887",
   "metadata": {},
   "source": [
    "## Install required application dependencies\n",
    "\n",
    "Let us go ahead and install required dependencies on the server.\n",
    "* Login to the EC2 instance as **lms** user.\n",
    "* Go to **/apps/lms** folder.\n",
    "* Validate if **pip** is available on the EC2 instance by running `python3 -m pip --version`.\n",
    "* If **pip** is not available, install it using `sudo apt update && sudo apt install python3-pip -y`. Make sure to vaidate by running `python3 -m pip --version`.\n",
    "* Install dependencies by running below command.\n",
    "```shell\n",
    "python3 -m pip install requirements.txt\n",
    "```"
   ]
  },
  {
   "cell_type": "code",
   "execution_count": null,
   "id": "2387e5ee-c7d7-4b1f-bfc2-2dce01a66cb2",
   "metadata": {},
   "outputs": [],
   "source": []
  }
 ],
 "metadata": {
  "kernelspec": {
   "display_name": "Python 3 (ipykernel)",
   "language": "python",
   "name": "python3"
  },
  "language_info": {
   "codemirror_mode": {
    "name": "ipython",
    "version": 3
   },
   "file_extension": ".py",
   "mimetype": "text/x-python",
   "name": "python",
   "nbconvert_exporter": "python",
   "pygments_lexer": "ipython3",
   "version": "3.8.12"
  }
 },
 "nbformat": 4,
 "nbformat_minor": 5
}
