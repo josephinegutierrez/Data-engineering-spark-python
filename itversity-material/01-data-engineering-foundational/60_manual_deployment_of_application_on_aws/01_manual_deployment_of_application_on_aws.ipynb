{
 "cells": [
  {
   "cell_type": "markdown",
   "id": "d7ce8762-a03b-430e-9160-c3ef3d4f6ffb",
   "metadata": {},
   "source": [
    "## Manual Deployment of Application on AWS\n",
    "\n",
    "As part of this section or module we will go through the manual steps involved in deploying our Flask based Web Application on AWS considering it as Production Environment.\n",
    "\n",
    "* Signup for AWS Account\n",
    "* Setup IAM User for AWS Administration\n",
    "* Validate AWS CLI\n",
    "* Configure AWS CLI\n",
    "* Getting Started with Boto3\n",
    "* Setup Postgres Database using RDS\n",
    "* Connect to Postgres on RDS using psql\n",
    "* Setup Application Database\n",
    "* Create EC2 Key Pair\n",
    "* Setup EC2 Instance\n",
    "* Validate DB Access from EC2 Instance\n",
    "* Deploy Application on EC2 Instance\n",
    "* Install Required Dependencies\n",
    "* Run Application using gunicorn\n",
    "* Setup nginx on EC2 Instance\n",
    "* Configure nginx as HTTP Proxy\n",
    "* Limitations of Manual Deployment\n",
    "* Setup Supervisor on EC2 Instance\n",
    "* Grant sudo to Application User\n",
    "* Configure Supervisor to run Application"
   ]
  },
  {
   "cell_type": "code",
   "execution_count": null,
   "id": "b3522359-ce86-4987-a3b0-381c56740535",
   "metadata": {},
   "outputs": [],
   "source": []
  }
 ],
 "metadata": {
  "kernelspec": {
   "display_name": "Python 3 (ipykernel)",
   "language": "python",
   "name": "python3"
  },
  "language_info": {
   "codemirror_mode": {
    "name": "ipython",
    "version": 3
   },
   "file_extension": ".py",
   "mimetype": "text/x-python",
   "name": "python",
   "nbconvert_exporter": "python",
   "pygments_lexer": "ipython3",
   "version": "3.8.12"
  }
 },
 "nbformat": 4,
 "nbformat_minor": 5
}
