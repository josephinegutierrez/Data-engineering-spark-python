{
 "cells": [
  {
   "cell_type": "markdown",
   "id": "0fc68161-5e08-4d14-b29b-af91e8a5b3fd",
   "metadata": {},
   "source": [
    "## Validate AWS CLI\n",
    "\n",
    "AWS CLI is command line interface which can be used to manage AWS components using commands with out logging in into AWS Web Console.\n",
    "* Run `aws help` to see if AWS CLI is already installed. It is already included as part of the self support lab.\n",
    "* If you do not find AWS CLI as part of the self support lab, make sure to install using `python3 -m pip install awscli`.\n",
    "* Once installed make sure to validate by running `aws help` command."
   ]
  },
  {
   "cell_type": "code",
   "execution_count": null,
   "id": "d190f414-5324-4777-a726-7e72834ef5a3",
   "metadata": {},
   "outputs": [],
   "source": [
    "!aws help"
   ]
  },
  {
   "cell_type": "code",
   "execution_count": null,
   "id": "71b5ad04-d35b-4441-bff9-c749e2745cde",
   "metadata": {},
   "outputs": [],
   "source": []
  }
 ],
 "metadata": {
  "kernelspec": {
   "display_name": "Python 3 (ipykernel)",
   "language": "python",
   "name": "python3"
  },
  "language_info": {
   "codemirror_mode": {
    "name": "ipython",
    "version": 3
   },
   "file_extension": ".py",
   "mimetype": "text/x-python",
   "name": "python",
   "nbconvert_exporter": "python",
   "pygments_lexer": "ipython3",
   "version": "3.8.12"
  }
 },
 "nbformat": 4,
 "nbformat_minor": 5
}
