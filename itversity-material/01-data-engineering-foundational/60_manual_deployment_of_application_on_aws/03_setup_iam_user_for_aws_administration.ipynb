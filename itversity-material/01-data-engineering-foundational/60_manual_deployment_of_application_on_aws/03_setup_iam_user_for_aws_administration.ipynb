{
 "cells": [
  {
   "cell_type": "markdown",
   "id": "0c1d7973-76e6-4f30-ade4-a87ef422ccc0",
   "metadata": {
    "tags": []
   },
   "source": [
    "## Setup IAM User for AWS Administration\n",
    "\n",
    "Let us go ahead and setup IAM User by name **lmsadmin** with administrator policy.\n",
    "* Login into https://aws.amazon.com using root account.\n",
    "* Search for IAM and get into IAM dashboard\n",
    "* Create user by name **lmsadmin** with both programmatic access as well as web console access.\n",
    "* Assign **administrator** policy\n",
    "* Make sure to download the credentials so that you can configure AWS CLI."
   ]
  },
  {
   "cell_type": "code",
   "execution_count": null,
   "id": "c1880597-58b4-47b3-8ba4-7bced9ab7fd1",
   "metadata": {},
   "outputs": [],
   "source": []
  }
 ],
 "metadata": {
  "kernelspec": {
   "display_name": "Python 3 (ipykernel)",
   "language": "python",
   "name": "python3"
  },
  "language_info": {
   "codemirror_mode": {
    "name": "ipython",
    "version": 3
   },
   "file_extension": ".py",
   "mimetype": "text/x-python",
   "name": "python",
   "nbconvert_exporter": "python",
   "pygments_lexer": "ipython3",
   "version": "3.8.12"
  }
 },
 "nbformat": 4,
 "nbformat_minor": 5
}
