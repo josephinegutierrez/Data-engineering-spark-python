{
 "cells": [
  {
   "cell_type": "markdown",
   "id": "bcc1c5e5-8e91-482e-ae7f-3be5079b92bf",
   "metadata": {},
   "source": [
    "## Setup Application for CI/CD\n",
    "\n",
    "Let us go ahead and setup **lms** application in a new folder. Make sure you have your own GitHub account before going further.\n",
    "* On Windows, I will demonstrate using **git bash**. On Mac or Linux based desktops or laptops, you can use **terminal**.\n",
    "* Make sure to set up the up to date GitHub repository for **Mastering Application Development using Python** using this [GitHub URL](https://github.com/itversity/mastering-app-development-python). If you have already setup, run `git pull` using Pycharm terminal.\n",
    "* By now you should have set it up already. If yes, go to the location using GitBash. If you are going through the content using Pycharm, you should be able to copy the path using Pycharm.\n",
    "* Make sure to run this command to copy the **lms** folder from this section to **PycharmProjects** folder.\n",
    "\n",
    "```shell\n",
    "# Make sure to validate the path in case there are changes to the folder names\n",
    "ls -ltr ~/PycharmProjects/mastering-app-development-python/python-and-sql-material/61_setup_cicd_using_github_actions/lms\n",
    "cp -rf ~/PycharmProjects/mastering-app-development-python/python-and-sql-material/61_setup_cicd_using_github_actions/lms ~/PycharmProjects/lms\n",
    "ls -ltr ~/PycharmProjects/lms\n",
    "```"
   ]
  },
  {
   "cell_type": "code",
   "execution_count": null,
   "id": "52cea3a5-2bf8-4907-a2b4-b500696fdf55",
   "metadata": {},
   "outputs": [],
   "source": []
  }
 ],
 "metadata": {
  "kernelspec": {
   "display_name": "Python 3 (ipykernel)",
   "language": "python",
   "name": "python3"
  },
  "language_info": {
   "codemirror_mode": {
    "name": "ipython",
    "version": 3
   },
   "file_extension": ".py",
   "mimetype": "text/x-python",
   "name": "python",
   "nbconvert_exporter": "python",
   "pygments_lexer": "ipython3",
   "version": "3.8.12"
  }
 },
 "nbformat": 4,
 "nbformat_minor": 5
}
