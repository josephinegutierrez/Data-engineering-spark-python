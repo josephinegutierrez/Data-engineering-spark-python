{
 "cells": [
  {
   "cell_type": "markdown",
   "id": "88f75cca-c68c-4897-aaff-617bb18b5adb",
   "metadata": {},
   "source": [
    "## Create GitHub Dev and Feature Branches\n",
    "\n",
    "Let us go ahead and create dev and feature branches using main as the baseline.\n",
    "* Open the project using Pycharm.\n",
    "* Run `git branch -a` to list current branches using Pycharm Terminal.\n",
    "* Check out dev branch using `git checkout -b dev`. The branch will be created, if it does not exists. We need to push the local branches to remote repositories using `git push` command.\n",
    "\n",
    "```shell\n",
    "git branch -a\n",
    "git checkout -b dev\n",
    "\n",
    "git push -u origin dev\n",
    "```\n",
    "\n",
    "* Check out feature branch using main branch as baseline.\n",
    "\n",
    "```shell\n",
    "git checkout main\n",
    "git checkout -b feature/feature1\n",
    "```\n",
    "\n",
    "* Make some changes to the code using Pycharm and then save.\n",
    "* Make sure to track the file that is modified and then commit.\n",
    "\n",
    "```shell\n",
    "git status\n",
    "git add . # All the files updated in the current directory will be tracked\n",
    "git commit -m \"Added feature 1\"\n",
    "```\n",
    "\n",
    "* Now push the code to GitHub. The code will be pushed to the branch by name **feature/features**.\n",
    "\n",
    "```shell\n",
    "git branch -a\n",
    "git push -u origin feature/feature1\n",
    "\n",
    "git branch -a\n",
    "```"
   ]
  },
  {
   "cell_type": "code",
   "execution_count": null,
   "id": "8c0cc73f-05ec-4249-8ad0-ed747caac643",
   "metadata": {},
   "outputs": [],
   "source": []
  }
 ],
 "metadata": {
  "kernelspec": {
   "display_name": "Python 3 (ipykernel)",
   "language": "python",
   "name": "python3"
  },
  "language_info": {
   "codemirror_mode": {
    "name": "ipython",
    "version": 3
   },
   "file_extension": ".py",
   "mimetype": "text/x-python",
   "name": "python",
   "nbconvert_exporter": "python",
   "pygments_lexer": "ipython3",
   "version": "3.8.12"
  }
 },
 "nbformat": 4,
 "nbformat_minor": 5
}
