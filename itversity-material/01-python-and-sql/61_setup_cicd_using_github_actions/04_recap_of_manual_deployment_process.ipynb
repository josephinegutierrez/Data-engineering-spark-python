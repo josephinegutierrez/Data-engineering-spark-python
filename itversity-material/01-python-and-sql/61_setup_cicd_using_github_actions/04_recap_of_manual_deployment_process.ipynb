{
 "cells": [
  {
   "cell_type": "markdown",
   "id": "29f855c5-9799-497b-820d-3264af1ab9b8",
   "metadata": {},
   "source": [
    "## Recap of Manual Deployment Process\n",
    "\n",
    "Let us quickly recap of the manual deployment process for our simple web application developed using Flask.\n",
    "* Deployment can be divided into baseline (one time every major upgrade) and incremental.\n",
    "* We can take care of pre-requisites of baseline deployment manually or using server automation tools such as Ansible.\n",
    "* After taking care of pre-requisites we should enable CI/CD so that the process of incremental deployments are streamlined.\n",
    "* For our project, we need to have following before enabling CI/CD.\n",
    "  * A Database Server to persist our application data.\n",
    "  * An Ubuntu based Server to deploy and run our application.\n",
    "  * A functional user specific to application which can be used for the deployment.\n",
    "  * Right version of Python with tools such as pip.\n",
    "  * A supervisor process to control the application.\n",
    "  * Proxy server such as nginx to redirect the external traffic via http or https to the application servers.\n",
    "  \n",
    "Once we have all the above in place we can work on setting up CI/CD Pipeline using solutions such as GitHub Actions."
   ]
  },
  {
   "cell_type": "code",
   "execution_count": null,
   "id": "73d772d6-3ee1-466b-8734-a8618271a799",
   "metadata": {},
   "outputs": [],
   "source": []
  }
 ],
 "metadata": {
  "kernelspec": {
   "display_name": "Python 3 (ipykernel)",
   "language": "python",
   "name": "python3"
  },
  "language_info": {
   "codemirror_mode": {
    "name": "ipython",
    "version": 3
   },
   "file_extension": ".py",
   "mimetype": "text/x-python",
   "name": "python",
   "nbconvert_exporter": "python",
   "pygments_lexer": "ipython3",
   "version": "3.8.12"
  }
 },
 "nbformat": 4,
 "nbformat_minor": 5
}
