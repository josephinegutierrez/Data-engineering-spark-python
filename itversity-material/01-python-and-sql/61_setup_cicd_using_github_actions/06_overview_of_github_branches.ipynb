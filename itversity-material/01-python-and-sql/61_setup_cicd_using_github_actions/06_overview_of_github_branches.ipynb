{
 "cells": [
  {
   "cell_type": "markdown",
   "id": "7e8847f5-debf-4aaf-a1b4-ded4e79252a7",
   "metadata": {},
   "source": [
    "## Overview of GitHub Branches\n",
    "\n",
    "Let us go through the details of GitHub Branches.\n",
    "* We typically come up with branching strategy based up on the environments we have with our application.\n",
    "* For example, dev, qa/main, production, etc. There might be others as well.\n",
    "* We typically enable CI/CD on qa/main, production branch.\n",
    "\n",
    "Here is the typical deployment process.\n",
    "* Developers develop their code in feature specific branch and then place pull request into the developer branch. These feature specific branches are typically short lived.\n",
    "* Once the development is done along with unit testing, developers will place pull request to merge their changes to qa/main branch.\n",
    "* The code might be reviewed and approved by the lead. As soon as the lead approves the changes, they will be merged into qa/main branch.\n",
    "* Once the changes are merged into qa/main branch, it needs to be built and deployed on QA environment for testing.\n",
    "* After the application is tested by QA team, they will place pull request to merge the code into Production branch. Once approved application will be deployed in Production Environment."
   ]
  },
  {
   "cell_type": "code",
   "execution_count": null,
   "id": "a6b3b507-b80f-4125-8ec5-1f122ba14729",
   "metadata": {},
   "outputs": [],
   "source": []
  }
 ],
 "metadata": {
  "kernelspec": {
   "display_name": "Python 3 (ipykernel)",
   "language": "python",
   "name": "python3"
  },
  "language_info": {
   "codemirror_mode": {
    "name": "ipython",
    "version": 3
   },
   "file_extension": ".py",
   "mimetype": "text/x-python",
   "name": "python",
   "nbconvert_exporter": "python",
   "pygments_lexer": "ipython3",
   "version": "3.8.12"
  }
 },
 "nbformat": 4,
 "nbformat_minor": 5
}
