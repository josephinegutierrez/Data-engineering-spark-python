{
 "cells": [
  {
   "cell_type": "markdown",
   "id": "4b7f1942-f71d-4e59-a00f-5e40b249ec78",
   "metadata": {},
   "source": [
    "## Overview of SDLC\n",
    "\n",
    "Let us get an overview of Software Development Life Cycle and typical environments associated with it.\n",
    "\n",
    "Here are the typical stages in software development process.\n",
    "* Requirements Gathering Analysis\n",
    "* Design of the solution\n",
    "* Development of the application modules\n",
    "* Integration of the application modules (Optional)\n",
    "* Testing of the Application\n",
    "* Running Application in the Production.\n",
    "\n",
    "We typically have 3 to 4 environments in which our application run.\n",
    "* Development on our local machine\n",
    "* System Integration\n",
    "* QA or UAT\n",
    "* Production\n",
    "\n",
    "Each of the layers will have different hardware. We need to make sure that the application can be deployed with out making any code changes."
   ]
  },
  {
   "cell_type": "code",
   "execution_count": null,
   "id": "49c8cf9f-3343-41ad-a33b-34caec35fecd",
   "metadata": {},
   "outputs": [],
   "source": []
  }
 ],
 "metadata": {
  "kernelspec": {
   "display_name": "Python 3 (ipykernel)",
   "language": "python",
   "name": "python3"
  },
  "language_info": {
   "codemirror_mode": {
    "name": "ipython",
    "version": 3
   },
   "file_extension": ".py",
   "mimetype": "text/x-python",
   "name": "python",
   "nbconvert_exporter": "python",
   "pygments_lexer": "ipython3",
   "version": "3.8.12"
  }
 },
 "nbformat": 4,
 "nbformat_minor": 5
}
