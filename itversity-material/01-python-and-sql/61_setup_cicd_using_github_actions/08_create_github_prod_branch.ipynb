{
 "cells": [
  {
   "cell_type": "markdown",
   "id": "88f75cca-c68c-4897-aaff-617bb18b5adb",
   "metadata": {},
   "source": [
    "## Create GitHub Prod Branches\n",
    "\n",
    "Let us go ahead and create prod using main as the baseline.\n",
    "* Open the project using Pycharm.\n",
    "* Run `git branch -a` to list current branches using Pycharm Terminal.\n",
    "* Check out prod branch using `git checkout -b prod`. The branch will be created, if it does not exists.\n",
    "\n",
    "```shell\n",
    "git branch -a\n",
    "git checkout -b prod\n",
    "```\n",
    "\n",
    "* Make sure to push the prod branch to GitHub.\n",
    "\n",
    "```shell\n",
    "git branch -a\n",
    "git push -u origin prod\n",
    "\n",
    "git branch -a\n",
    "```"
   ]
  },
  {
   "cell_type": "code",
   "execution_count": null,
   "id": "8c0cc73f-05ec-4249-8ad0-ed747caac643",
   "metadata": {},
   "outputs": [],
   "source": []
  }
 ],
 "metadata": {
  "kernelspec": {
   "display_name": "Python 3 (ipykernel)",
   "language": "python",
   "name": "python3"
  },
  "language_info": {
   "codemirror_mode": {
    "name": "ipython",
    "version": 3
   },
   "file_extension": ".py",
   "mimetype": "text/x-python",
   "name": "python",
   "nbconvert_exporter": "python",
   "pygments_lexer": "ipython3",
   "version": "3.8.12"
  }
 },
 "nbformat": 4,
 "nbformat_minor": 5
}
