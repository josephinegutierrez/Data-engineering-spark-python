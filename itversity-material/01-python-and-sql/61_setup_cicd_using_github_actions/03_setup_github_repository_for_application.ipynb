{
 "cells": [
  {
   "cell_type": "markdown",
   "id": "bcc1c5e5-8e91-482e-ae7f-3be5079b92bf",
   "metadata": {},
   "source": [
    "## Setup GitHub Repository of the Application\n",
    "\n",
    "As the application code for **lms** is copied to new folder, let's go ahead and setup Git repository for the same.\n",
    "* Run these commands using **git bash**.\n",
    "\n",
    "```shell\n",
    "git init\n",
    "git add .\n",
    "git commit -m \"Initial commit for ci/cd\"\n",
    "```\n",
    "\n",
    "* Go to GitHub and setup repository as demonstrated. Make sure to follow the instructions provided.\n",
    "* Validate by refreshing GitHub page related to the repository."
   ]
  },
  {
   "cell_type": "code",
   "execution_count": null,
   "id": "52cea3a5-2bf8-4907-a2b4-b500696fdf55",
   "metadata": {},
   "outputs": [],
   "source": []
  }
 ],
 "metadata": {
  "kernelspec": {
   "display_name": "Python 3 (ipykernel)",
   "language": "python",
   "name": "python3"
  },
  "language_info": {
   "codemirror_mode": {
    "name": "ipython",
    "version": 3
   },
   "file_extension": ".py",
   "mimetype": "text/x-python",
   "name": "python",
   "nbconvert_exporter": "python",
   "pygments_lexer": "ipython3",
   "version": "3.8.12"
  }
 },
 "nbformat": 4,
 "nbformat_minor": 5
}
