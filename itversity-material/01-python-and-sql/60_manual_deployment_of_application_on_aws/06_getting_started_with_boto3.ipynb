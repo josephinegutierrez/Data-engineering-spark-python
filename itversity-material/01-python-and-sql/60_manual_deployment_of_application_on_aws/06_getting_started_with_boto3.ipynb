{
 "cells": [
  {
   "cell_type": "markdown",
   "id": "0e0258c0-4d7e-431f-8d8b-46c1aee7af43",
   "metadata": {},
   "source": [
    "## Getting Started with boto3\n",
    "\n",
    "AWS **boto3** is Python based library which can be used to manage AWS componenets using Python as programming language with out logging in into AWS Web Console.\n",
    "* Validate if **boto3** is already installed using `pip list|grep boto3`\n",
    "* We can install **boto3** using `python3 -m pip install boto3`. "
   ]
  },
  {
   "cell_type": "code",
   "execution_count": null,
   "id": "3a9090a5-bdd8-49fb-ba24-7c56f41d4036",
   "metadata": {},
   "outputs": [],
   "source": [
    "!pip list|grep boto3"
   ]
  },
  {
   "cell_type": "code",
   "execution_count": null,
   "id": "cafd22e2-e188-4108-a655-6baadd5a2683",
   "metadata": {},
   "outputs": [],
   "source": [
    "import boto3"
   ]
  },
  {
   "cell_type": "code",
   "execution_count": null,
   "id": "76e8d836-0d7d-44bf-a16e-7ace9562a628",
   "metadata": {},
   "outputs": [],
   "source": [
    "import os"
   ]
  },
  {
   "cell_type": "code",
   "execution_count": null,
   "id": "92a72d33-c6c1-4f8d-aa2d-b43a32db0221",
   "metadata": {},
   "outputs": [],
   "source": [
    "os.environ.setdefault('AWS_PROFILE', 'lmsadmin')"
   ]
  },
  {
   "cell_type": "code",
   "execution_count": null,
   "id": "8895d583-fbd2-49b3-935a-b3ec6e4350b0",
   "metadata": {},
   "outputs": [],
   "source": [
    "iam_client = boto3.client('iam')"
   ]
  },
  {
   "cell_type": "code",
   "execution_count": null,
   "id": "41cad74d-a67e-4203-8fc6-aaceea53cfce",
   "metadata": {},
   "outputs": [],
   "source": [
    "iam_users = iam_client.list_users()"
   ]
  },
  {
   "cell_type": "code",
   "execution_count": null,
   "id": "3e60156e-ecdc-4c04-8c6a-cb0f104f2551",
   "metadata": {},
   "outputs": [],
   "source": [
    "iam_users.keys()"
   ]
  },
  {
   "cell_type": "code",
   "execution_count": null,
   "id": "f435806f-9d56-42d9-9191-55e02e111b1c",
   "metadata": {},
   "outputs": [],
   "source": [
    "type(iam_users['Users'])"
   ]
  },
  {
   "cell_type": "code",
   "execution_count": null,
   "id": "adab6e5b-5a9a-4cf4-bef2-4c7f9daa03a8",
   "metadata": {},
   "outputs": [],
   "source": [
    "len(iam_users['Users'])"
   ]
  },
  {
   "cell_type": "code",
   "execution_count": null,
   "id": "292efd16-41d0-486d-816d-91fc0725b211",
   "metadata": {},
   "outputs": [],
   "source": [
    "for user_details in iam_users['Users']:\n",
    "    if user_details['UserName'] == 'lmsadmin':\n",
    "        print(user_details)"
   ]
  },
  {
   "cell_type": "code",
   "execution_count": null,
   "id": "3969e489-026d-45ab-83c7-3438b65c1f1c",
   "metadata": {},
   "outputs": [],
   "source": []
  }
 ],
 "metadata": {
  "kernelspec": {
   "display_name": "Python 3 (ipykernel)",
   "language": "python",
   "name": "python3"
  },
  "language_info": {
   "codemirror_mode": {
    "name": "ipython",
    "version": 3
   },
   "file_extension": ".py",
   "mimetype": "text/x-python",
   "name": "python",
   "nbconvert_exporter": "python",
   "pygments_lexer": "ipython3",
   "version": "3.8.12"
  }
 },
 "nbformat": 4,
 "nbformat_minor": 5
}
