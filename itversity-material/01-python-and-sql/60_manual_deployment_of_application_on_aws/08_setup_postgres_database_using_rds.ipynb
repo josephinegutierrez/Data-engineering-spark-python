{
 "cells": [
  {
   "cell_type": "markdown",
   "id": "e6c9c569-fb74-47a7-b99d-1dd4bbda796d",
   "metadata": {
    "tags": []
   },
   "source": [
    "## Setup Postgres Database using RDS\n",
    "\n",
    "Let us go ahead and understand how to setup Postgres Database using RDS. We will make it publicly accessible.\n",
    "\n",
    "* Go to RDS Console\n",
    "* Choose Postgres with appropriate configuration. We will be using Postgres 13.\n",
    "* To keep costs under control, make sure to choose **Dev/Test** Template.\n",
    "* Give Database Server Name as **lmsdbserver**\n",
    "* We will be using Burstable **db.t3.medium** class.\n",
    "* Make sure it is publicly accessible.\n",
    "* You can check the status of database server using this command."
   ]
  },
  {
   "cell_type": "code",
   "execution_count": null,
   "id": "5de75948-c8b8-44a0-922a-b773c34cf13e",
   "metadata": {},
   "outputs": [],
   "source": [
    "!aws rds describe-db-instances \\\n",
    "    --db-instance-identifier lmsdbserver \\\n",
    "    --profile lmsadmin \\\n",
    "    --region us-east-1"
   ]
  },
  {
   "cell_type": "code",
   "execution_count": null,
   "id": "0cf61a32-bffe-46ec-af0b-427fc7459700",
   "metadata": {},
   "outputs": [],
   "source": []
  }
 ],
 "metadata": {
  "kernelspec": {
   "display_name": "Python 3 (ipykernel)",
   "language": "python",
   "name": "python3"
  },
  "language_info": {
   "codemirror_mode": {
    "name": "ipython",
    "version": 3
   },
   "file_extension": ".py",
   "mimetype": "text/x-python",
   "name": "python",
   "nbconvert_exporter": "python",
   "pygments_lexer": "ipython3",
   "version": "3.8.12"
  }
 },
 "nbformat": 4,
 "nbformat_minor": 5
}
