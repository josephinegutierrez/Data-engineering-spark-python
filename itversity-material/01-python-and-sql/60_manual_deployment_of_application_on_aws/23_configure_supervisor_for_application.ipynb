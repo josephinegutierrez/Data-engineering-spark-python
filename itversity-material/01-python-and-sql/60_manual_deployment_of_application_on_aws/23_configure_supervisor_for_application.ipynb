{
 "cells": [
  {
   "cell_type": "markdown",
   "id": "06a9b4f5-ae42-48c3-a864-f3094bb36c6f",
   "metadata": {},
   "source": [
    "## Configure Supervisor for Application\n",
    "\n",
    "Let us go ahead and configure supervisor for application that is supposed to run using **gunicorn**.\n",
    "* Login as superuser. In this case, you can login as **lms**.\n",
    "* Go to **/etc/supervisor/conf.d** and create a file by name **lmsappserver.conf**.\n",
    "* Update that file with following content.\n",
    "\n",
    "```shell\n",
    "[program:lmsappserver]\n",
    "user=lms\n",
    "environment = \n",
    "    DB_HOST=lmsdbserver.cfrxujtpbrro.us-east-1.rds.amazonaws.com,\n",
    "    DB_PORT=5432,\n",
    "    DB_NAME=lms_db,\n",
    "    DB_USER=lms_user,\n",
    "    DB_PASS=itversity\n",
    "directory=/apps/lms/lms-app\n",
    "command=/home/lms/.local/bin/gunicorn --chdir /apps/lms/lms-app -w 2 --threads 2 -b 0.0.0.0:5000 main:app\n",
    "autostart=true\n",
    "autorestart=true\n",
    "stderr_logfile=/var/log/lmsappserver/lmsappserver.err.log\n",
    "stdout_logfile=/var/log/lmsappserver/lmsappserver.out.log\n",
    "```\n",
    "\n",
    "* Once the file is saved, we can bounce the supervisor using following commands.\n",
    "\n",
    "```shell\n",
    "sudo systemctl stop supervisor\n",
    "sudo systemctl start supervisor\n",
    "```\n",
    "\n",
    "* The application should be up and running with out any issues. We can try killing the gunicorn process and you can see the application coming up automatically for us. \n",
    "* Also you can review the logs that are being generated under specified location."
   ]
  },
  {
   "cell_type": "code",
   "execution_count": null,
   "id": "03b81dbc-fc3c-4234-abdf-26ed8507a293",
   "metadata": {},
   "outputs": [],
   "source": []
  }
 ],
 "metadata": {
  "kernelspec": {
   "display_name": "Python 3 (ipykernel)",
   "language": "python",
   "name": "python3"
  },
  "language_info": {
   "codemirror_mode": {
    "name": "ipython",
    "version": 3
   },
   "file_extension": ".py",
   "mimetype": "text/x-python",
   "name": "python",
   "nbconvert_exporter": "python",
   "pygments_lexer": "ipython3",
   "version": "3.8.12"
  }
 },
 "nbformat": 4,
 "nbformat_minor": 5
}
