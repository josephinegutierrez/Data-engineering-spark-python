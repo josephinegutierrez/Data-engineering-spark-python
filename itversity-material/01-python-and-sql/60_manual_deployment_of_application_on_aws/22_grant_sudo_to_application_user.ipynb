{
 "cells": [
  {
   "cell_type": "markdown",
   "id": "ab765a20-693d-41ca-bd30-3d57ebdc20b0",
   "metadata": {},
   "source": [
    "## Grant sudo to application user\n",
    "\n",
    "Let us go ahead and grant sudo permissions to application user **lms**. We have setup this user to manage the application.\n",
    "* On top of running application using gunicorn, we need to ensure that nginx and supervisor are also running all the time.\n",
    "* While performing incremental deployments to deploy recent changes to the code, some times we need to ensure that all the services such as nginx, supervisor are restarted.\n",
    "* We can make **lms** sudoer to take care of bouncing services such as **nginx**, **supervisor**, etc while performing incremental deployments.\n",
    "* Here are the steps to grant sudo permissions to **lms** user.\n",
    "  * Login as **ubuntu** to the EC2 instance.\n",
    "  * Run `adduser lms sudo` to add **lms** to a group called **sudo**. \n",
    "  * Now you can validate whether you are able to run commands using `sudo` as **lms** user. However, it will prompt for the password. We need to ensure that we can run commands as **lms** using `sudo` with out being prompted for the password.\n",
    "  * Run `sudo visudo` to open **/etc/sudoers** in edit mode. We need to update an entry in **/etc/sudoers** so that we are not prompted for the password when ever we try to run sudo command as **lms** user.\n",
    "\n",
    "**Note: In typical production environments, the users such as lms will only get restricted sudo permissions instead of all**"
   ]
  },
  {
   "cell_type": "code",
   "execution_count": null,
   "id": "7f7e2607-4298-4016-a934-2a8944ad4e5b",
   "metadata": {},
   "outputs": [],
   "source": []
  }
 ],
 "metadata": {
  "kernelspec": {
   "display_name": "Python 3 (ipykernel)",
   "language": "python",
   "name": "python3"
  },
  "language_info": {
   "codemirror_mode": {
    "name": "ipython",
    "version": 3
   },
   "file_extension": ".py",
   "mimetype": "text/x-python",
   "name": "python",
   "nbconvert_exporter": "python",
   "pygments_lexer": "ipython3",
   "version": "3.8.12"
  }
 },
 "nbformat": 4,
 "nbformat_minor": 5
}
