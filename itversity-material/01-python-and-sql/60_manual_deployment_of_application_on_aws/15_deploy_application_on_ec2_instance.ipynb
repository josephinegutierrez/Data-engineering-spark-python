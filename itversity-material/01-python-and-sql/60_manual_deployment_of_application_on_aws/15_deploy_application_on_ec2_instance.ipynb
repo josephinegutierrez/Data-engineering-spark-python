{
 "cells": [
  {
   "cell_type": "markdown",
   "id": "47b8f945-f178-491b-a4f2-91ac1f7a89f3",
   "metadata": {
    "tags": []
   },
   "source": [
    "## Deploy Application on EC2 Instance\n",
    "\n",
    "Let us go ahead and manually deploy the application on EC2 Instance.\n",
    "* Login into the EC2 instance **lmsappserver** using sudo user **ubuntu**\n",
    "* Create a folder by name **/apps** on EC2 instance. Make sure to change the ownership to **lms**. \n",
    "\n",
    "```shell\n",
    "# Login as sudo user - ubuntu\n",
    "sudo mkdir -p /apps\n",
    "sudo chown -R lms:lms /apps\n",
    "```\n",
    "\n",
    "* Clone the repository or copy directly to the EC2 instance. The application code is provided along with the notebooks in the same folder related to **Manual Application Deployment on AWS**.\n",
    "\n",
    "```shell\n",
    "scp -i ~/.ssh/lms_rsa \\\n",
    "    -r ~/python-and-sql-material/60_manual_deployment_of_application_on_aws/lms \\\n",
    "    lms@ec2-54-196-148-224.compute-1.amazonaws.com:/apps\n",
    "```\n",
    "\n",
    "* We can now login into the ec2 instance as **lms** user using SSH Command and validate.\n",
    "\n",
    "```shell\n",
    "ssh -i ~/.ssh/lms_rsa lms@ec2-54-196-148-224.compute-1.amazonaws.com \"ls -ltr /apps\"\n",
    "```"
   ]
  },
  {
   "cell_type": "code",
   "execution_count": null,
   "id": "94a0faac-37d7-4c22-b7a9-42a53d408247",
   "metadata": {},
   "outputs": [],
   "source": []
  }
 ],
 "metadata": {
  "kernelspec": {
   "display_name": "Python 3 (ipykernel)",
   "language": "python",
   "name": "python3"
  },
  "language_info": {
   "codemirror_mode": {
    "name": "ipython",
    "version": 3
   },
   "file_extension": ".py",
   "mimetype": "text/x-python",
   "name": "python",
   "nbconvert_exporter": "python",
   "pygments_lexer": "ipython3",
   "version": "3.8.12"
  }
 },
 "nbformat": 4,
 "nbformat_minor": 5
}
