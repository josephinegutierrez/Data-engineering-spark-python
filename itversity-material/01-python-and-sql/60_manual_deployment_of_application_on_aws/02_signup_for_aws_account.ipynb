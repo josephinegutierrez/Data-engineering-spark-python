{
 "cells": [
  {
   "cell_type": "markdown",
   "id": "21e2e561-1204-4aa0-9f82-855f62824b21",
   "metadata": {},
   "source": [
    "## Signup for AWS Account\n",
    "\n",
    "Let us go ahead and sign up for AWS account so that we can leverage AWS to setup the application.\n",
    "* Go to https://aws.amazon.com\n",
    "* Click on signup and complete sign up process. You need to have credit card handy to complete the sign up process."
   ]
  },
  {
   "cell_type": "code",
   "execution_count": null,
   "id": "dfa6d28c-1f3d-4edb-b6b0-c9b68ede81b0",
   "metadata": {},
   "outputs": [],
   "source": []
  }
 ],
 "metadata": {
  "kernelspec": {
   "display_name": "Python 3 (ipykernel)",
   "language": "python",
   "name": "python3"
  },
  "language_info": {
   "codemirror_mode": {
    "name": "ipython",
    "version": 3
   },
   "file_extension": ".py",
   "mimetype": "text/x-python",
   "name": "python",
   "nbconvert_exporter": "python",
   "pygments_lexer": "ipython3",
   "version": "3.8.12"
  }
 },
 "nbformat": 4,
 "nbformat_minor": 5
}
