{
 "cells": [
  {
   "cell_type": "markdown",
   "id": "66a5e58f-b32c-43cb-aba9-b8d9effb0dc5",
   "metadata": {},
   "source": [
    "## Setup EC2 Instance\n",
    "\n",
    "Let us go ahead and setup EC2 Instance for the application server. In our case we will name it as `lmsappserver`.\n",
    "* Go to EC2 Dashboard.\n",
    "* Setup EC2 Instance using Ubuntu 18.04 LTS or 20.04 LTS.\n",
    "* Make sure to create new security group by name **lmsappserver-sg**.\n",
    "* Make sure to choose appropriate key pair so that you can connect to EC2 Instance using SSH, once it is started. We can use **lmskeypair** created as part of previous lecture.\n",
    "* We will define tag with Name as **lmsappserver**\n",
    "* We can get the details of the instance by using `aws ec2 describe-instances` command."
   ]
  },
  {
   "cell_type": "code",
   "execution_count": null,
   "id": "816e24a0-0161-4301-a4f8-e877afcb3d9f",
   "metadata": {},
   "outputs": [],
   "source": [
    "!aws ec2 describe-instances help"
   ]
  },
  {
   "cell_type": "code",
   "execution_count": null,
   "id": "14735cc2-1974-495b-8f6d-3d7c642607a5",
   "metadata": {},
   "outputs": [],
   "source": [
    "!aws ec2 describe-instances \\\n",
    "    --profile lmsadmin \\\n",
    "    --region us-east-1"
   ]
  },
  {
   "cell_type": "code",
   "execution_count": null,
   "id": "8f04c35a-bd70-4843-bfd9-5b3726b6efc6",
   "metadata": {},
   "outputs": [],
   "source": [
    "!aws ec2 describe-instances \\\n",
    "    --filters Name=tag:Name,Values=lmsappserver \\\n",
    "    --profile lmsadmin \\\n",
    "    --region us-east-1"
   ]
  },
  {
   "cell_type": "code",
   "execution_count": null,
   "id": "7e1fd3ad-e845-4ee0-b8d3-6503a4c7beb0",
   "metadata": {},
   "outputs": [],
   "source": [
    "!aws ec2 describe-instances \\\n",
    "    --filters Name=tag:Name,Values=lmsappserver \\\n",
    "    --query 'Reservations[*].Instances[*].{Instance:InstanceId,PublicDnsName:PublicDnsName}' \\\n",
    "    --profile lmsadmin \\\n",
    "    --region us-east-1"
   ]
  },
  {
   "cell_type": "code",
   "execution_count": null,
   "id": "60a4ef68-0932-455d-a626-84be04a2af3d",
   "metadata": {},
   "outputs": [],
   "source": []
  }
 ],
 "metadata": {
  "kernelspec": {
   "display_name": "Python 3 (ipykernel)",
   "language": "python",
   "name": "python3"
  },
  "language_info": {
   "codemirror_mode": {
    "name": "ipython",
    "version": 3
   },
   "file_extension": ".py",
   "mimetype": "text/x-python",
   "name": "python",
   "nbconvert_exporter": "python",
   "pygments_lexer": "ipython3",
   "version": "3.8.12"
  }
 },
 "nbformat": 4,
 "nbformat_minor": 5
}
