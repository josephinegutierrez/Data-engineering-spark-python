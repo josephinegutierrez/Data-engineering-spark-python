{
 "cells": [
  {
   "cell_type": "markdown",
   "id": "ab3cd650-6659-453c-9931-40409ec89e54",
   "metadata": {
    "tags": []
   },
   "source": [
    "## Connect to Postgres on RDS using psql\n",
    "\n",
    "Once the Postgres Database is up and running, we should be able to connect to the database using `psql`.\n",
    "* Get the public DNS for the database. It is also called as endpoint."
   ]
  },
  {
   "cell_type": "code",
   "execution_count": null,
   "id": "7c8d68c9-def0-4fd6-b744-2c881f2df9da",
   "metadata": {},
   "outputs": [],
   "source": [
    "!aws rds describe-db-instances \\\n",
    "    --db-instance-identifier lmsdbserver \\\n",
    "    --profile lmsadmin \\\n",
    "    --region us-east-1"
   ]
  },
  {
   "cell_type": "markdown",
   "id": "7aa49ce6-dcbf-4253-9af6-1d1376820711",
   "metadata": {
    "tags": []
   },
   "source": [
    "* Launch terminal to run `psql` command. Make sure `postgresql-client` is installed. You can confirm by running `psql --version` command."
   ]
  },
  {
   "cell_type": "code",
   "execution_count": null,
   "id": "4eca660b-0feb-4c1a-af95-456581d599eb",
   "metadata": {},
   "outputs": [],
   "source": [
    "!psql --version"
   ]
  },
  {
   "cell_type": "markdown",
   "id": "e1cda08a-7a8e-477b-a7f8-124895d6873d",
   "metadata": {
    "tags": []
   },
   "source": [
    "* Use `psql` command to connect to the database to validate the accessibility.\n",
    "\n",
    "```shell\n",
    "psql -h lmsdbserver.cfrxujtpbrro.us-east-1.rds.amazonaws.com \\\n",
    "    -d postgres \\\n",
    "    -U postgres \\\n",
    "    -W\n",
    "```"
   ]
  },
  {
   "cell_type": "code",
   "execution_count": null,
   "id": "ff971064-d6f5-4adc-9714-89bc5bb46b27",
   "metadata": {},
   "outputs": [],
   "source": []
  }
 ],
 "metadata": {
  "kernelspec": {
   "display_name": "Python 3 (ipykernel)",
   "language": "python",
   "name": "python3"
  },
  "language_info": {
   "codemirror_mode": {
    "name": "ipython",
    "version": 3
   },
   "file_extension": ".py",
   "mimetype": "text/x-python",
   "name": "python",
   "nbconvert_exporter": "python",
   "pygments_lexer": "ipython3",
   "version": "3.8.12"
  }
 },
 "nbformat": 4,
 "nbformat_minor": 5
}
