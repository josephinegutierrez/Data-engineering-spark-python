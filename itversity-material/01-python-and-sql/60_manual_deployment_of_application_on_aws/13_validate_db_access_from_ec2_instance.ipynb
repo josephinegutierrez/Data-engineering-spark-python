{
 "cells": [
  {
   "cell_type": "markdown",
   "id": "5344ac30-5c0f-4e45-a51c-9358eda206f7",
   "metadata": {},
   "source": [
    "## Validate DB Access from EC2 Instance\n",
    "\n",
    "Let us go ahead and validate database access from EC2 instance.\n",
    "* Connect to EC2 instance via SSH.\n",
    "* Run telnet command to confirm whether EC2 instance is able to telnet to database endpoint using port 5432.\n",
    "* If it is not working as expected, make sure to update security group of database. We can grant access to security group associated with EC2 instance."
   ]
  },
  {
   "cell_type": "code",
   "execution_count": null,
   "id": "d5f4c523-4726-40fd-83b4-2f79cdc2898a",
   "metadata": {},
   "outputs": [],
   "source": []
  }
 ],
 "metadata": {
  "kernelspec": {
   "display_name": "Python 3 (ipykernel)",
   "language": "python",
   "name": "python3"
  },
  "language_info": {
   "codemirror_mode": {
    "name": "ipython",
    "version": 3
   },
   "file_extension": ".py",
   "mimetype": "text/x-python",
   "name": "python",
   "nbconvert_exporter": "python",
   "pygments_lexer": "ipython3",
   "version": "3.8.12"
  }
 },
 "nbformat": 4,
 "nbformat_minor": 5
}
