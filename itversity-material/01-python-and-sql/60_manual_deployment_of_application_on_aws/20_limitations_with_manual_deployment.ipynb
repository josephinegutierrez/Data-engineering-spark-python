{
 "cells": [
  {
   "cell_type": "markdown",
   "id": "5d462061-dfa3-4908-961f-8e0427ad1615",
   "metadata": {},
   "source": [
    "## Limitations with Manual Deployment\n",
    "\n",
    "Here are some of the limitations with manual deployment, especially continuous incremental deployments.\n",
    "* It is tedious process with a lot of manual intervention.\n",
    "* As there are so many tasks, we might end up making mistakes which can seriously impact the state of the application.\n",
    "* At the time of deployment, we typically use functional users such as **lms** who might have elevated permissions. People might cause serious issues with elevated permissions intentionally or unintentionally.\n",
    "* For baseline deployment, we might be able to take care of pre-requisites to run the application manually or using server automation tools like ansible.\n",
    "* For continuous deployment, we typically take care of them using CI/CD Pipelines. We will talk about this as part of next section or module in series of lectures."
   ]
  },
  {
   "cell_type": "code",
   "execution_count": null,
   "id": "e289d4ff-de1c-422c-a0c9-e4f2e7f29586",
   "metadata": {},
   "outputs": [],
   "source": []
  }
 ],
 "metadata": {
  "kernelspec": {
   "display_name": "Python 3 (ipykernel)",
   "language": "python",
   "name": "python3"
  },
  "language_info": {
   "codemirror_mode": {
    "name": "ipython",
    "version": 3
   },
   "file_extension": ".py",
   "mimetype": "text/x-python",
   "name": "python",
   "nbconvert_exporter": "python",
   "pygments_lexer": "ipython3",
   "version": "3.8.12"
  }
 },
 "nbformat": 4,
 "nbformat_minor": 5
}
