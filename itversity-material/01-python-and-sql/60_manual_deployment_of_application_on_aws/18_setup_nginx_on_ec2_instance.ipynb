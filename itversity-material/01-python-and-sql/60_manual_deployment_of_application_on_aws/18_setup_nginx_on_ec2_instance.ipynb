{
 "cells": [
  {
   "cell_type": "markdown",
   "id": "f63d4639-efb5-4ea6-a6e6-ed4d68612b79",
   "metadata": {},
   "source": [
    "## Setup nginx on EC2 Instance\n",
    "\n",
    "Let us go ahead and setup **nginx** on the EC2 Instance where application is deployed.\n",
    "* Login as **ubuntu** user.\n",
    "* Install **nginx** using `sudo apt install nginx -y`.\n",
    "* Check if **nginx** is running or not by using `sudo systemctl status nginx`.\n",
    "* Make sure to open port 80 as part of the security group associated with EC2 Instance."
   ]
  },
  {
   "cell_type": "code",
   "execution_count": null,
   "id": "70ba54e9-95cc-492e-8823-17afec9d3713",
   "metadata": {},
   "outputs": [],
   "source": []
  }
 ],
 "metadata": {
  "kernelspec": {
   "display_name": "Python 3 (ipykernel)",
   "language": "python",
   "name": "python3"
  },
  "language_info": {
   "codemirror_mode": {
    "name": "ipython",
    "version": 3
   },
   "file_extension": ".py",
   "mimetype": "text/x-python",
   "name": "python",
   "nbconvert_exporter": "python",
   "pygments_lexer": "ipython3",
   "version": "3.8.12"
  }
 },
 "nbformat": 4,
 "nbformat_minor": 5
}
