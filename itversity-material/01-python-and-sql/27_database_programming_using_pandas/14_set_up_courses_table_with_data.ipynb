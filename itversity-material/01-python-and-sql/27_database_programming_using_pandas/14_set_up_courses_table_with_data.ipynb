{
 "cells": [
  {
   "cell_type": "markdown",
   "id": "aca070f2",
   "metadata": {},
   "source": [
    "## Set up courses table with Data\n",
    "\n",
    "Let us set up courses table with data, so that we understand how to run SQL queries using Pandas as part of the next topic.\n",
    "* Connect to database\n",
    "* Create table\n",
    "* Load collection into the table."
   ]
  },
  {
   "cell_type": "code",
   "execution_count": null,
   "id": "da15d1d8",
   "metadata": {},
   "outputs": [],
   "source": [
    "%run 13_set_up_variables_for_db_connectivity.ipynb"
   ]
  },
  {
   "cell_type": "code",
   "execution_count": null,
   "id": "79c28b4d",
   "metadata": {},
   "outputs": [],
   "source": [
    "%load_ext sql"
   ]
  },
  {
   "cell_type": "code",
   "execution_count": null,
   "id": "68ad970b",
   "metadata": {},
   "outputs": [],
   "source": [
    "%env DATABASE_URL=postgresql://{username}_sms_user:{password}@{postgres_host}:{postgres_port}/{username}_sms_db"
   ]
  },
  {
   "cell_type": "code",
   "execution_count": null,
   "id": "004c7e06",
   "metadata": {},
   "outputs": [],
   "source": [
    "%%sql\n",
    "\n",
    "DROP TABLE IF EXISTS courses"
   ]
  },
  {
   "cell_type": "code",
   "execution_count": null,
   "id": "f54acc3c",
   "metadata": {},
   "outputs": [],
   "source": [
    "%%sql\n",
    "\n",
    "CREATE TABLE courses (\n",
    "    course_id SERIAL PRIMARY KEY,\n",
    "    course_name VARCHAR(60),\n",
    "    course_author VARCHAR(40),\n",
    "    course_status VARCHAR(9) CHECK (course_status IN ('published', 'inactive', 'draft')),\n",
    "    course_published_dt DATE\n",
    ")"
   ]
  },
  {
   "cell_type": "code",
   "execution_count": null,
   "id": "57148a91",
   "metadata": {},
   "outputs": [],
   "source": [
    "%%sql\n",
    "\n",
    "INSERT INTO courses \n",
    "    (course_name, course_author, course_status, course_published_dt) \n",
    "VALUES \n",
    "    ('Programming using Python', 'Bob Dillon', 'published', '2020-09-30'),\n",
    "    ('Data Engineering using Python', 'Bob Dillon', 'published', '2020-07-15'),\n",
    "    ('Data Engineering using Scala', 'Elvis Presley', 'draft', NULL),\n",
    "    ('Programming using Scala', 'Elvis Presley', 'published', '2020-05-12'),\n",
    "    ('Programming using Java', 'Mike Jack' , 'inactive', '2020-08-10'),\n",
    "    ('Web Applications - Python Flask', 'Bob Dillon', 'inactive', '2020-07-20'),\n",
    "    ('Web Applications - Java Spring', 'Mike Jack', 'draft', NULL),\n",
    "    ('Pipeline Orchestration - Python', 'Bob Dillon', 'draft', NULL),\n",
    "    ('Streaming Pipelines - Python', 'Bob Dillon', 'published', '2020-10-05'),\n",
    "    ('Web Applications - Scala Play', 'Elvis Presley', 'inactive', '2020-09-30'),\n",
    "    ('Web Applications - Python Django', 'Bob Dillon', 'published', '2020-06-23'),\n",
    "    ('Server Automation - Ansible', 'Uncle Sam' , 'published', '2020-07-05');"
   ]
  }
 ],
 "metadata": {
  "kernelspec": {
   "display_name": "Python 3 (ipykernel)",
   "language": "python",
   "name": "python3"
  },
  "language_info": {
   "codemirror_mode": {
    "name": "ipython",
    "version": 3
   },
   "file_extension": ".py",
   "mimetype": "text/x-python",
   "name": "python",
   "nbconvert_exporter": "python",
   "pygments_lexer": "ipython3",
   "version": "3.8.12"
  }
 },
 "nbformat": 4,
 "nbformat_minor": 5
}
