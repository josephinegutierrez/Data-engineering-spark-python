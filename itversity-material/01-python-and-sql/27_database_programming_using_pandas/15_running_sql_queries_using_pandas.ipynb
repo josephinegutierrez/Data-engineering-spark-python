{
  "cells": [
    {
      "cell_type": "markdown",
      "id": "1e113cb5",
      "metadata": {},
      "source": [
        "## Running SQL Queries using Pandas\n",
        "\n",
        "Let us understand how to run SQL Queries using Pandas. Here are the steps that need to be followed to run SQL Queries against Postgres database.\n",
        "* Make sure Pandas, Psycopg2 as well as SQL Alchemy are installed.\n",
        "* Create database engine object using SQL Alchemy.\n",
        "* Make sure to build the query that is required to process the data as per the requirements.\n",
        "* Use Pandas `read_sql` using query and engine objects.\n",
        "* Even though we can run any query using `read_sql`, it will throw exceptions if the query or command does not return the data. For example, DML statements like `DELETE` throw exceptions as it does not return the rows even though data is successfully deleted satisfying the condition.\n",
        "\n",
        "**Note: We are going to see the demo using Postgres. Similar steps can be followed for database of any type that is supported using SQL Alchemy**."
      ]
    },
    {
      "cell_type": "code",
      "execution_count": null,
      "id": "64b31ae6",
      "metadata": {},
      "outputs": [],
      "source": [
        "!pip list|grep pandas"
      ]
    },
    {
      "cell_type": "code",
      "execution_count": null,
      "id": "4a05b935",
      "metadata": {},
      "outputs": [],
      "source": [
        "!pip list|grep psycopg2"
      ]
    },
    {
      "cell_type": "code",
      "execution_count": null,
      "id": "ce391a78",
      "metadata": {},
      "outputs": [],
      "source": [
        "!pip list|grep -i sqlalchemy"
      ]
    },
    {
      "cell_type": "code",
      "execution_count": null,
      "id": "a90a8fd0",
      "metadata": {},
      "outputs": [],
      "source": [
        "%run 13_set_up_variables_for_db_connectivity.ipynb"
      ]
    },
    {
      "cell_type": "code",
      "execution_count": null,
      "id": "889cba7d",
      "metadata": {},
      "outputs": [],
      "source": [
        "import pandas as pd"
      ]
    },
    {
      "cell_type": "code",
      "execution_count": null,
      "id": "e29eb263",
      "metadata": {},
      "outputs": [],
      "source": [
        "import psycopg2\n",
        "import sqlalchemy as db\n",
        "from sqlalchemy.ext.declarative import declarative_base\n",
        "Base = declarative_base()\n",
        "\n",
        "engine = db.create_engine(f'postgresql://{username}_sms_user:{password}@{postgres_host}:{postgres_port}/{username}_sms_db')"
      ]
    },
    {
      "cell_type": "code",
      "execution_count": null,
      "id": "c91a7c4c",
      "metadata": {},
      "outputs": [],
      "source": [
        "type(engine)"
      ]
    },
    {
      "cell_type": "code",
      "execution_count": null,
      "id": "e59fe680",
      "metadata": {},
      "outputs": [],
      "source": [
        "courses_query = 'SELECT * FROM courses'"
      ]
    },
    {
      "cell_type": "code",
      "execution_count": null,
      "id": "a9c5050b",
      "metadata": {},
      "outputs": [],
      "source": [
        "pd.read_sql(courses_query, engine)"
      ]
    }
  ],
  "metadata": {
    "kernelspec": {
      "display_name": "python37",
      "language": "python",
      "name": "python37"
    },
    "language_info": {
      "codemirror_mode": {
        "name": "ipython",
        "version": 3
      },
      "file_extension": ".py",
      "mimetype": "text/x-python",
      "name": "python",
      "nbconvert_exporter": "python",
      "pygments_lexer": "ipython3",
      "version": "3.7.10"
    }
  },
  "nbformat": 4,
  "nbformat_minor": 5
}